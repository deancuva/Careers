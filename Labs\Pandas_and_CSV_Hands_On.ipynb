{
  "nbformat": 4,
  "nbformat_minor": 0,
  "metadata": {
    "colab": {
      "provenance": [],
      "include_colab_link": true
    },
    "kernelspec": {
      "name": "python3",
      "display_name": "Python 3"
    },
    "language_info": {
      "name": "python"
    }
  },
  "cells": [
    {
      "cell_type": "markdown",
      "metadata": {
        "id": "view-in-github",
        "colab_type": "text"
      },
      "source": [
        "<a href=\"https://colab.research.google.com/github/deancuva/Careers/blob/main/Labs%5CPandas_and_CSV_Hands_On.ipynb\" target=\"_parent\"><img src=\"https://colab.research.google.com/assets/colab-badge.svg\" alt=\"Open In Colab\"/></a>"
      ]
    },
    {
      "cell_type": "markdown",
      "source": [
        " **Loading the Data (CSV Files)**\n",
        "We'll start by loading the two CSV files into pandas DataFrames."
      ],
      "metadata": {
        "id": "pBgcnTfZ7C3Q"
      }
    },
    {
      "cell_type": "code",
      "execution_count": 1,
      "metadata": {
        "id": "w2wGMa_H4bcy",
        "outputId": "9feecb61-49bb-43a6-e9e4-0a65a0c2d22c",
        "colab": {
          "base_uri": "https://localhost:8080/"
        }
      },
      "outputs": [
        {
          "output_type": "stream",
          "name": "stdout",
          "text": [
            "Regular Season Stats:\n",
            "   Rk            Player   Pos  Age   Tm   G  GS    MP   FG   FGA  ...    FT%  \\\n",
            "0   1  Precious Achiuwa  PF-C   24  TOT  74  18  21.9  3.2   6.3  ...  0.616   \n",
            "1   1  Precious Achiuwa     C   24  TOR  25   0  17.5  3.1   6.8  ...  0.571   \n",
            "2   1  Precious Achiuwa    PF   24  NYK  49  18  24.2  3.2   6.1  ...  0.643   \n",
            "3   2       Bam Adebayo     C   26  MIA  71  71  34.0  7.5  14.3  ...  0.755   \n",
            "4   3      Ochai Agbaji    SG   23  TOT  78  28  21.0  2.3   5.6  ...  0.661   \n",
            "\n",
            "   ORB  DRB   TRB  AST  STL  BLK  TOV   PF   PTS  \n",
            "0  2.6  4.0   6.6  1.3  0.6  0.9  1.1  1.9   7.6  \n",
            "1  2.0  3.4   5.4  1.8  0.6  0.5  1.2  1.6   7.7  \n",
            "2  2.9  4.3   7.2  1.1  0.6  1.1  1.1  2.1   7.6  \n",
            "3  2.2  8.1  10.4  3.9  1.1  0.9  2.3  2.2  19.3  \n",
            "4  0.9  1.8   2.8  1.1  0.6  0.6  0.8  1.5   5.8  \n",
            "\n",
            "[5 rows x 30 columns]\n",
            "\n",
            "Playoff Stats:\n",
            "   Rk                    Player Pos  Age   Tm   G  GS    MP   FG   FGA  ...  \\\n",
            "0   1          Precious Achiuwa  PF   24  NYK   9   2  20.4  2.3   4.8  ...   \n",
            "1   2               Bam Adebayo   C   26  MIA   5   5  38.4  9.6  19.4  ...   \n",
            "2   3  Nickeil Alexander-Walker  SG   25  MIN  16   1  23.6  2.6   7.0  ...   \n",
            "3   4             Grayson Allen  SG   28  PHO   2   2  21.5  0.5   2.5  ...   \n",
            "4   5             Jarrett Allen   C   25  CLE   4   4  31.8  6.3   9.3  ...   \n",
            "\n",
            "     FT%  ORB   DRB   TRB  AST  STL  BLK  TOV   PF   PTS  \n",
            "0  0.385  2.4   1.8   4.2  0.6  0.4  1.3  0.4  2.2   5.2  \n",
            "1  0.714  2.2   7.2   9.4  3.8  0.4  0.0  1.6  3.0  22.6  \n",
            "2  1.000  0.3   1.4   1.8  2.3  0.6  0.4  0.9  1.5   7.3  \n",
            "3  1.000  1.0   3.0   4.0  1.0  0.5  0.0  1.5  2.0   3.5  \n",
            "4  0.692  3.8  10.0  13.8  1.3  1.3  1.0  1.3  2.0  17.0  \n",
            "\n",
            "[5 rows x 30 columns]\n"
          ]
        }
      ],
      "source": [
        "import pandas as pd\n",
        "\n",
        "regular_season_url = 'https://raw.githubusercontent.com/deancuva/DS2002/main/2023-2024%20NBA%20Player%20Stats%20-%20Regular.csv'\n",
        "playoffs_url = 'https://raw.githubusercontent.com/deancuva/DS2002/main/2023-2024%20NBA%20Player%20Stats%20-%20Playoffs.csv'\n",
        "\n",
        "# Load the CSVs\n",
        "regular_season_df = pd.read_csv(regular_season_url, sep=';', encoding='latin1')\n",
        "playoffs_df = pd.read_csv(playoffs_url, sep=';', encoding='latin1')\n",
        "\n",
        "# Display the first few rows\n",
        "print(\"Regular Season Stats:\")\n",
        "print(regular_season_df.head())\n",
        "\n",
        "print(\"\\nPlayoff Stats:\")\n",
        "print(playoffs_df.head())\n",
        "\n"
      ]
    },
    {
      "cell_type": "code",
      "source": [
        "print(\"\\nPlayoff Stats:\")\n",
        "playoffs_df.head()"
      ],
      "metadata": {
        "id": "88HsX7rm68_P"
      },
      "execution_count": null,
      "outputs": []
    },
    {
      "cell_type": "markdown",
      "source": [
        "**Exploring the Data**"
      ],
      "metadata": {
        "id": "3k1sa-Gm7esW"
      }
    },
    {
      "cell_type": "code",
      "source": [
        "# Get basic information about the datasets\n",
        "print(\"Regular Season Data Info:\")\n",
        "regular_season_df.info()\n",
        "\n",
        "print(\"\\nPlayoff Data Info:\")\n",
        "playoffs_df.info()\n",
        "\n",
        "\n"
      ],
      "metadata": {
        "id": "FeIsFsiX7f_m"
      },
      "execution_count": null,
      "outputs": []
    },
    {
      "cell_type": "code",
      "source": [
        "# Check for missing values\n",
        "print(\"\\nMissing Values in Regular Season Data:\")\n",
        "regular_season_df.isnull().sum()\n"
      ],
      "metadata": {
        "id": "PYezvFvr7yiE"
      },
      "execution_count": null,
      "outputs": []
    },
    {
      "cell_type": "code",
      "source": [
        "\n",
        "print(\"\\nMissing Values in Playoff Data:\")\n",
        "print(playoffs_df.isnull().sum())\n"
      ],
      "metadata": {
        "id": "HgdVUx1k71T-"
      },
      "execution_count": null,
      "outputs": []
    },
    {
      "cell_type": "code",
      "source": [
        "\n",
        "# Get statistical summaries of the data\n",
        "print(\"\\nStatistical Summary (Regular Season):\")\n",
        "#print(regular_season_df.describe())\n",
        "regular_season_df.describe()"
      ],
      "metadata": {
        "id": "ih7xMVzH72cv"
      },
      "execution_count": null,
      "outputs": []
    },
    {
      "cell_type": "code",
      "source": [
        "\n",
        "print(\"\\nStatistical Summary (Playoffs):\")\n",
        "playoffs_df.describe()"
      ],
      "metadata": {
        "id": "SfayGTTu73ig"
      },
      "execution_count": null,
      "outputs": []
    },
    {
      "cell_type": "markdown",
      "source": [
        "**Cleaning some Data**"
      ],
      "metadata": {
        "id": "CASSfexP8fUc"
      }
    },
    {
      "cell_type": "code",
      "source": [
        "# Dropping any rows with missing values (if necessary)\n",
        "regular_season_df = regular_season_df.dropna()\n",
        "playoffs_df = playoffs_df.dropna()\n",
        "\n",
        "# Rename columns if needed (for easier access)\n",
        "regular_season_df.rename(columns={'Tm': 'Team','PTS': 'Points', 'TRB': 'Rebounds', 'AST': 'Assists'}, inplace=True)\n",
        "playoffs_df.rename(columns={'Tm': 'Team','PTS': 'Points', 'TRB': 'Rebounds', 'AST': 'Assists'}, inplace=True)\n",
        "\n",
        "print(\"Updated Regular Season Columns:\")\n",
        "print(regular_season_df.columns)\n",
        "\n",
        "print(\"\\nUpdated Playoff Columns:\")\n",
        "print(playoffs_df.columns)\n"
      ],
      "metadata": {
        "id": "mQS3dmEF8idl"
      },
      "execution_count": null,
      "outputs": []
    },
    {
      "cell_type": "code",
      "source": [],
      "metadata": {
        "id": "dQkCla_r-QE5"
      },
      "execution_count": null,
      "outputs": []
    },
    {
      "cell_type": "markdown",
      "source": [
        "**Data Analysis & Manipulation**"
      ],
      "metadata": {
        "id": "7Px6kyqn8oxH"
      }
    },
    {
      "cell_type": "code",
      "source": [
        "# Top 10 players with the most points in the regular season\n",
        "top_scorers_regular = regular_season_df[['Player', 'Points']].sort_values(by='Points', ascending=False).head(10)\n",
        "print(\"Top 10 Regular Season Scorers:\")\n",
        "top_scorers_regular\n",
        "\n",
        "# Top 10 players with the most points in the playoffs\n",
        "top_scorers_playoffs = playoffs_df[['Player', 'Points']].sort_values(by='Points', ascending=False).head(10)\n",
        "print(\"Top 10 Playoff Scorers:\")\n",
        "top_scorers_playoffs\n",
        "\n",
        "# Grouping the data by 'Team' and calculating the average stats for each team\n",
        "team_avg_stats_regular = regular_season_df.groupby('Team')[['Points', 'Rebounds', 'Assists']].mean().reset_index()\n",
        "print(\"\\nAverage Team Stats (Regular Season):\")\n",
        "team_avg_stats_regular\n",
        "\n",
        "# Similarly for playoffs\n",
        "team_avg_stats_playoffs = playoffs_df.groupby('Team')[['Points', 'Rebounds', 'Assists']].mean().reset_index()\n",
        "print(\"\\nAverage Team Stats (Playoffs):\")\n",
        "team_avg_stats_playoffs\n"
      ],
      "metadata": {
        "id": "VzXiCtny8xAg"
      },
      "execution_count": null,
      "outputs": []
    },
    {
      "cell_type": "code",
      "source": [
        "# Import visualization libraries\n",
        "import matplotlib.pyplot as plt\n",
        "import seaborn as sns\n",
        "\n",
        "# Set the style for the plots\n",
        "sns.set(style=\"whitegrid\")\n",
        "\n",
        "# Plot a bar chart of the top 10 regular season scorers\n",
        "plt.figure(figsize=(10,6))\n",
        "sns.barplot(x='Points', y='Player', data=top_scorers_regular)\n",
        "plt.title('Top 10 Regular Season Scorers')\n",
        "plt.show()\n",
        "\n",
        "# Plot a bar chart of the top 10 playoff scorers\n",
        "plt.figure(figsize=(10,6))\n",
        "sns.barplot(x='Points', y='Player', data=top_scorers_playoffs)\n",
        "plt.title('Top 10 Playoff Scorers')\n",
        "plt.show()\n",
        "\n",
        "# Plot a comparison of average team stats (Points, Rebounds, Assists) between regular season and playoffs\n",
        "plt.figure(figsize=(12,8))\n",
        "team_avg_stats = pd.merge(team_avg_stats_regular, team_avg_stats_playoffs, on='Team', suffixes=('_Regular', '_Playoffs'))\n",
        "\n",
        "# Plot average points for regular season and playoffs\n",
        "sns.barplot(x='Points_Regular', y='Team', data=team_avg_stats, color=\"b\", label=\"Regular Season\")\n",
        "sns.barplot(x='Points_Playoffs', y='Team', data=team_avg_stats, color=\"r\", label=\"Playoffs\")\n",
        "plt.title('Average Points per Team: Regular Season vs Playoffs')\n",
        "plt.legend()\n",
        "plt.show()\n"
      ],
      "metadata": {
        "id": "eM8u9Ye-86w9"
      },
      "execution_count": null,
      "outputs": []
    },
    {
      "cell_type": "markdown",
      "source": [
        "**Exercises**\n",
        "Exercise 1: Top 10 Rebounders\n",
        "\n",
        "Write code to display the top 10 players with the most rebounds in both the regular season and playoffs.\n"
      ],
      "metadata": {
        "id": "CmHaIzH7CKfw"
      }
    },
    {
      "cell_type": "code",
      "source": [],
      "metadata": {
        "id": "MQMOsMLTCXON"
      },
      "execution_count": null,
      "outputs": []
    },
    {
      "cell_type": "markdown",
      "source": [
        "**Exercise 2: Assists Leader by Team**\n",
        "\n",
        "Group the data by team and calculate which player on each team has the most assists for both the regular season and playoffs"
      ],
      "metadata": {
        "id": "5tNQir-qCYZ3"
      }
    },
    {
      "cell_type": "code",
      "source": [],
      "metadata": {
        "id": "Kn6U4boaCYIf"
      },
      "execution_count": null,
      "outputs": []
    },
    {
      "cell_type": "markdown",
      "source": [
        "**Exercise 3: Visualize Rebounds per Team** (optional)\n",
        "Create a visualization that compares the average rebounds per team for the regular season and playoffs. Which team saw the biggest increase or decrease?"
      ],
      "metadata": {
        "id": "ntlT3CFkCgKf"
      }
    },
    {
      "cell_type": "code",
      "source": [],
      "metadata": {
        "id": "wK_AG7Z-CuhN"
      },
      "execution_count": null,
      "outputs": []
    }
  ]
}